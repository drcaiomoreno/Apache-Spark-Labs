{
  "nbformat": 4,
  "nbformat_minor": 0,
  "metadata": {
    "colab": {
      "provenance": []
    },
    "kernelspec": {
      "name": "python3",
      "display_name": "Python 3"
    },
    "accelerator": "GPU"
  },
  "cells": [
    {
      "cell_type": "markdown",
      "source": [
        "Lab 1 - Running Spark on Google Collab\n",
        "Author: Caio Moreno"
      ],
      "metadata": {
        "id": "8bSJ5PLbe6VT"
      }
    },
    {
      "cell_type": "code",
      "source": [
        "print(\"Hello World\")"
      ],
      "metadata": {
        "id": "9unhjhnye6A-",
        "colab": {
          "base_uri": "https://localhost:8080/"
        },
        "outputId": "f45711b2-1193-44dd-a72d-5da1c1ab74b2"
      },
      "execution_count": 1,
      "outputs": [
        {
          "output_type": "stream",
          "name": "stdout",
          "text": [
            "Hello World\n"
          ]
        }
      ]
    },
    {
      "cell_type": "markdown",
      "source": [
        "# Install Java, Spark, and Findspark\n",
        "This installs Apache Spark 3.5.0, Java 11, and [Findspark](https://github.com/minrk/findspark), a library that makes it easy for Python to find Spark."
      ],
      "metadata": {
        "id": "B6_72ZLaHFpj"
      }
    },
    {
      "cell_type": "code",
      "source": [
        "# Download Java Virtual Machine (JVM)\n",
        "!apt-get install openjdk-11-jdk-headless -qq > /dev/null"
      ],
      "metadata": {
        "id": "MILr577DeJQF"
      },
      "execution_count": 2,
      "outputs": []
    },
    {
      "cell_type": "code",
      "source": [
        "# Download Spark 3.5.0 from https://apache.osuosl.org/spark/spark-3.5.4/spark-3.5.4-bin-hadoop3.tgz\n",
        "!wget -q https://apache.osuosl.org/spark/spark-3.5.4/spark-3.5.4-bin-hadoop3.tgz"
      ],
      "metadata": {
        "id": "KIezSJRve5fp"
      },
      "execution_count": 11,
      "outputs": []
    },
    {
      "cell_type": "code",
      "source": [
        "ls -lh"
      ],
      "metadata": {
        "id": "uWIBwIwhTE2U",
        "outputId": "76b7d597-ad09-4d95-eafb-31159981bd03",
        "colab": {
          "base_uri": "https://localhost:8080/"
        }
      },
      "execution_count": 12,
      "outputs": [
        {
          "output_type": "stream",
          "name": "stdout",
          "text": [
            "total 383M\n",
            "drwxr-xr-x 1 root root 4.0K Jan 16 14:29 \u001b[0m\u001b[01;34msample_data\u001b[0m/\n",
            "-rw-r--r-- 1 root root 383M Dec 17 05:16 spark-3.5.4-bin-hadoop3.tgz\n"
          ]
        }
      ]
    },
    {
      "cell_type": "code",
      "source": [
        "# Download PySpark\n",
        "!wget -q https://apache.osuosl.org/spark/spark-3.5.4/pyspark-3.5.4.tar.gz"
      ],
      "metadata": {
        "id": "mnCY60dw-4LH"
      },
      "execution_count": 13,
      "outputs": []
    },
    {
      "cell_type": "code",
      "source": [
        "ls -lh"
      ],
      "metadata": {
        "id": "NvQ0yr-WTmax",
        "outputId": "7386c7d4-fb40-4516-bc14-fb9106a4e7f1",
        "colab": {
          "base_uri": "https://localhost:8080/"
        }
      },
      "execution_count": 14,
      "outputs": [
        {
          "output_type": "stream",
          "name": "stdout",
          "text": [
            "total 685M\n",
            "-rw-r--r-- 1 root root 303M Dec 17 05:16 pyspark-3.5.4.tar.gz\n",
            "drwxr-xr-x 1 root root 4.0K Jan 16 14:29 \u001b[0m\u001b[01;34msample_data\u001b[0m/\n",
            "-rw-r--r-- 1 root root 383M Dec 17 05:16 spark-3.5.4-bin-hadoop3.tgz\n"
          ]
        }
      ]
    },
    {
      "cell_type": "code",
      "source": [
        "ls -lh ../"
      ],
      "metadata": {
        "id": "HXTU9f24Skle",
        "outputId": "71834eca-e380-490a-9dbd-d4750cb53ba7",
        "colab": {
          "base_uri": "https://localhost:8080/"
        }
      },
      "execution_count": 15,
      "outputs": [
        {
          "output_type": "stream",
          "name": "stdout",
          "text": [
            "total 448K\n",
            "lrwxrwxrwx   1 root root    7 Oct  4  2023 \u001b[0m\u001b[01;36mbin\u001b[0m -> \u001b[01;34musr/bin\u001b[0m/\n",
            "drwxr-xr-x   2 root root 4.0K Apr 18  2022 \u001b[01;34mboot\u001b[0m/\n",
            "drwxr-xr-x   1 root root 4.0K Jan 20 20:01 \u001b[01;34mcontent\u001b[0m/\n",
            "-rw-r--r--   1 root root 4.3K Nov 10  2023 cuda-keyring_1.0-1_all.deb\n",
            "drwxr-xr-x   1 root root 4.0K Jan 16 14:39 \u001b[01;34mdatalab\u001b[0m/\n",
            "drwxr-xr-x   6 root root  460 Jan 20 19:55 \u001b[01;34mdev\u001b[0m/\n",
            "drwxr-xr-x   1 root root 4.0K Jan 20 19:55 \u001b[01;34metc\u001b[0m/\n",
            "drwxr-xr-x   2 root root 4.0K Apr 18  2022 \u001b[01;34mhome\u001b[0m/\n",
            "drwxr-xr-x   3 root root 4.0K Jan 20 19:55 \u001b[01;34mkaggle\u001b[0m/\n",
            "lrwxrwxrwx   1 root root    7 Oct  4  2023 \u001b[01;36mlib\u001b[0m -> \u001b[01;34musr/lib\u001b[0m/\n",
            "lrwxrwxrwx   1 root root    9 Oct  4  2023 \u001b[01;36mlib32\u001b[0m -> \u001b[01;34musr/lib32\u001b[0m/\n",
            "lrwxrwxrwx   1 root root    9 Oct  4  2023 \u001b[01;36mlib64\u001b[0m -> \u001b[01;34musr/lib64\u001b[0m/\n",
            "lrwxrwxrwx   1 root root   10 Oct  4  2023 \u001b[01;36mlibx32\u001b[0m -> \u001b[01;34musr/libx32\u001b[0m/\n",
            "drwxr-xr-x   2 root root 4.0K Oct  4  2023 \u001b[01;34mmedia\u001b[0m/\n",
            "drwxr-xr-x   2 root root 4.0K Oct  4  2023 \u001b[01;34mmnt\u001b[0m/\n",
            "-rw-r--r--   1 root root  17K Nov 10  2023 NGC-DL-CONTAINER-LICENSE\n",
            "drwxr-xr-x   1 root root 4.0K Jan 20 19:55 \u001b[01;34mopt\u001b[0m/\n",
            "dr-xr-xr-x 218 root root    0 Jan 20 19:55 \u001b[01;34mproc\u001b[0m/\n",
            "drwxrwxr-x  14 root root 4.0K Jan 16 14:27 \u001b[01;34mpython-apt\u001b[0m/\n",
            "-r-xr-xr-x   1 root root 338K Jan  1  2000 \u001b[01;32mpython-apt.tar.xz\u001b[0m*\n",
            "drwx------   1 root root 4.0K Jan 20 19:55 \u001b[01;34mroot\u001b[0m/\n",
            "drwxr-xr-x   1 root root 4.0K Jan 16 14:20 \u001b[01;34mrun\u001b[0m/\n",
            "lrwxrwxrwx   1 root root    8 Oct  4  2023 \u001b[01;36msbin\u001b[0m -> \u001b[01;34musr/sbin\u001b[0m/\n",
            "drwxr-xr-x   2 root root 4.0K Oct  4  2023 \u001b[01;34msrv\u001b[0m/\n",
            "dr-xr-xr-x  13 root root    0 Jan 20 19:55 \u001b[01;34msys\u001b[0m/\n",
            "drwxrwxrwt   1 root root 4.0K Jan 20 19:56 \u001b[30;42mtmp\u001b[0m/\n",
            "drwxr-xr-x   1 root root 4.0K Jan 16 14:39 \u001b[01;34mtools\u001b[0m/\n",
            "drwxr-xr-x   1 root root 4.0K Jan 20 19:55 \u001b[01;34musr\u001b[0m/\n",
            "drwxr-xr-x   1 root root 4.0K Jan 16 14:39 \u001b[01;34mvar\u001b[0m/\n"
          ]
        }
      ]
    },
    {
      "cell_type": "code",
      "source": [
        "# unzip it\n",
        "!tar xf spark-3.5.4-bin-hadoop3.tgz\n",
        "# install findspark\n",
        "!pip install -q findspark"
      ],
      "metadata": {
        "id": "vA4rcotnGjIw"
      },
      "execution_count": 16,
      "outputs": []
    },
    {
      "cell_type": "code",
      "source": [
        "# unzip it\n",
        "!tar xf pyspark-3.5.4.tar.gz"
      ],
      "metadata": {
        "id": "eG4kwZqs_AmF"
      },
      "execution_count": 17,
      "outputs": []
    },
    {
      "cell_type": "code",
      "source": [
        "!pwd"
      ],
      "metadata": {
        "colab": {
          "base_uri": "https://localhost:8080/"
        },
        "id": "Rrylq19fAvQS",
        "outputId": "e52c73c0-2a0a-4ed4-9de3-51f991635785"
      },
      "execution_count": 18,
      "outputs": [
        {
          "output_type": "stream",
          "name": "stdout",
          "text": [
            "/content\n"
          ]
        }
      ]
    },
    {
      "cell_type": "code",
      "source": [
        "cd /content/spark-3.5.4-bin-hadoop3/"
      ],
      "metadata": {
        "colab": {
          "base_uri": "https://localhost:8080/"
        },
        "id": "NUBJCp26AyXd",
        "outputId": "6f9c6e41-966e-4456-f688-90aa771dadb7"
      },
      "execution_count": 19,
      "outputs": [
        {
          "output_type": "stream",
          "name": "stdout",
          "text": [
            "/content/spark-3.5.4-bin-hadoop3\n"
          ]
        }
      ]
    },
    {
      "cell_type": "code",
      "source": [
        "ls -lh"
      ],
      "metadata": {
        "colab": {
          "base_uri": "https://localhost:8080/"
        },
        "id": "tnO4rqj2frxa",
        "outputId": "78bc84d7-e911-4840-e630-f146342d282d"
      },
      "execution_count": 20,
      "outputs": [
        {
          "output_type": "stream",
          "name": "stdout",
          "text": [
            "total 152K\n",
            "drwxr-xr-x 2 1000 1000 4.0K Dec 17 05:13 \u001b[0m\u001b[01;34mbin\u001b[0m/\n",
            "drwxr-xr-x 2 1000 1000 4.0K Dec 17 05:13 \u001b[01;34mconf\u001b[0m/\n",
            "drwxr-xr-x 6 1000 1000 4.0K Dec 17 05:13 \u001b[01;34mdata\u001b[0m/\n",
            "drwxr-xr-x 4 1000 1000 4.0K Dec 17 05:13 \u001b[01;34mexamples\u001b[0m/\n",
            "drwxr-xr-x 2 1000 1000  16K Dec 17 05:13 \u001b[01;34mjars\u001b[0m/\n",
            "drwxr-xr-x 4 1000 1000 4.0K Dec 17 05:13 \u001b[01;34mkubernetes\u001b[0m/\n",
            "-rw-r--r-- 1 1000 1000  23K Dec 17 05:13 LICENSE\n",
            "drwxr-xr-x 2 1000 1000 4.0K Dec 17 05:13 \u001b[01;34mlicenses\u001b[0m/\n",
            "-rw-r--r-- 1 1000 1000  57K Dec 17 05:13 NOTICE\n",
            "drwxr-xr-x 9 1000 1000 4.0K Dec 17 05:13 \u001b[01;34mpython\u001b[0m/\n",
            "drwxr-xr-x 3 1000 1000 4.0K Dec 17 05:13 \u001b[01;34mR\u001b[0m/\n",
            "-rw-r--r-- 1 1000 1000 4.5K Dec 17 05:13 README.md\n",
            "-rw-r--r-- 1 1000 1000  166 Dec 17 05:13 RELEASE\n",
            "drwxr-xr-x 2 1000 1000 4.0K Dec 17 05:13 \u001b[01;34msbin\u001b[0m/\n",
            "drwxr-xr-x 2 1000 1000 4.0K Dec 17 05:13 \u001b[01;34myarn\u001b[0m/\n"
          ]
        }
      ]
    },
    {
      "cell_type": "code",
      "source": [
        "cd /content"
      ],
      "metadata": {
        "colab": {
          "base_uri": "https://localhost:8080/"
        },
        "id": "3RvjouvmG1Jd",
        "outputId": "f47b0854-2811-429f-ed91-83342bbf8845"
      },
      "execution_count": 21,
      "outputs": [
        {
          "output_type": "stream",
          "name": "stdout",
          "text": [
            "/content\n"
          ]
        }
      ]
    },
    {
      "cell_type": "code",
      "source": [
        "ls -lh"
      ],
      "metadata": {
        "colab": {
          "base_uri": "https://localhost:8080/"
        },
        "id": "ieVfcC7IG6Oh",
        "outputId": "143b608b-e0a0-4afc-bac0-65f8d22768c8"
      },
      "execution_count": 22,
      "outputs": [
        {
          "output_type": "stream",
          "name": "stdout",
          "text": [
            "total 685M\n",
            "drwxr-xr-x  6 1000 1000 4.0K Dec 17 05:07 \u001b[0m\u001b[01;34mpyspark-3.5.4\u001b[0m/\n",
            "-rw-r--r--  1 root root 303M Dec 17 05:16 pyspark-3.5.4.tar.gz\n",
            "drwxr-xr-x  1 root root 4.0K Jan 16 14:29 \u001b[01;34msample_data\u001b[0m/\n",
            "drwxr-xr-x 13 1000 1000 4.0K Dec 17 05:13 \u001b[01;34mspark-3.5.4-bin-hadoop3\u001b[0m/\n",
            "-rw-r--r--  1 root root 383M Dec 17 05:16 spark-3.5.4-bin-hadoop3.tgz\n"
          ]
        }
      ]
    },
    {
      "metadata": {
        "id": "b4Kjvk_h1AHl"
      },
      "cell_type": "markdown",
      "source": [
        "# Set Environment Variables\n",
        "Set the locations where Spark and Java are installed."
      ]
    },
    {
      "metadata": {
        "id": "8Xnb_ePUyQIL"
      },
      "cell_type": "code",
      "source": [
        "import os\n",
        "os.environ[\"JAVA_HOME\"] = \"/usr/lib/jvm/java-11-openjdk-amd64\"\n",
        "os.environ[\"SPARK_HOME\"] = \"/content/spark-3.5.4-bin-hadoop3\"\n"
      ],
      "execution_count": 23,
      "outputs": []
    },
    {
      "cell_type": "code",
      "source": [
        "ls -lh /usr/lib/jvm/"
      ],
      "metadata": {
        "colab": {
          "base_uri": "https://localhost:8080/"
        },
        "id": "ejGITMlrBFQq",
        "outputId": "aacfebfb-5640-4645-90d2-77ab6abe2ba0"
      },
      "execution_count": 24,
      "outputs": [
        {
          "output_type": "stream",
          "name": "stdout",
          "text": [
            "total 4.0K\n",
            "lrwxrwxrwx 1 root root   21 Oct 17 17:21 \u001b[0m\u001b[01;36mjava-1.11.0-openjdk-amd64\u001b[0m -> \u001b[01;34mjava-11-openjdk-amd64\u001b[0m/\n",
            "drwxr-xr-x 9 root root 4.0K Jan 16 14:25 \u001b[01;34mjava-11-openjdk-amd64\u001b[0m/\n"
          ]
        }
      ]
    },
    {
      "metadata": {
        "id": "NwU28K5f1H3P"
      },
      "cell_type": "markdown",
      "source": [
        "# Start a SparkSession\n",
        "This will start a local Spark session."
      ]
    },
    {
      "cell_type": "code",
      "source": [
        "!export PYSPARK_SUBMIT_ARGS=\"--master local[2] pyspark-shell\""
      ],
      "metadata": {
        "id": "dNEWtczg_mqn"
      },
      "execution_count": 25,
      "outputs": []
    },
    {
      "cell_type": "code",
      "source": [
        "import findspark"
      ],
      "metadata": {
        "id": "d759K_Eo_QlE"
      },
      "execution_count": 27,
      "outputs": []
    },
    {
      "metadata": {
        "id": "zgReRGl0y23D"
      },
      "cell_type": "code",
      "source": [
        "import findspark\n",
        "findspark.init()\n",
        "from pyspark.sql import SparkSession\n",
        "\n",
        "#spark = SparkSession.builder.master(\"local[*]\").getOrCreate()\n",
        "\n",
        "spark = SparkSession.builder.master(\"local[*]\").getOrCreate()"
      ],
      "execution_count": 26,
      "outputs": []
    },
    {
      "cell_type": "code",
      "source": [
        "import pyspark"
      ],
      "metadata": {
        "id": "Jd9HA8Y7u6kc"
      },
      "execution_count": 28,
      "outputs": []
    },
    {
      "metadata": {
        "id": "T3ULPx4Y1LiR"
      },
      "cell_type": "markdown",
      "source": [
        "# Use Spark!\n",
        "That's all there is to it - you're ready to use Spark!"
      ]
    },
    {
      "metadata": {
        "id": "XJp8ZI-VzYEz",
        "colab": {
          "base_uri": "https://localhost:8080/"
        },
        "outputId": "d214abce-9c4c-4514-91a5-1a163a212cd6"
      },
      "cell_type": "code",
      "source": [
        "df = spark.createDataFrame([{\"hello\": \"world\"} for x in range(1000)])\n",
        "df.show(3)"
      ],
      "execution_count": 29,
      "outputs": [
        {
          "output_type": "stream",
          "name": "stdout",
          "text": [
            "+-----+\n",
            "|hello|\n",
            "+-----+\n",
            "|world|\n",
            "|world|\n",
            "|world|\n",
            "+-----+\n",
            "only showing top 3 rows\n",
            "\n"
          ]
        }
      ]
    },
    {
      "cell_type": "code",
      "source": [
        "display(df)"
      ],
      "metadata": {
        "colab": {
          "base_uri": "https://localhost:8080/",
          "height": 35
        },
        "id": "Pu0u2G4tHnzf",
        "outputId": "721c54b3-0eb8-4f8d-f72b-389a3bae8552"
      },
      "execution_count": 30,
      "outputs": [
        {
          "output_type": "display_data",
          "data": {
            "text/plain": [
              "DataFrame[hello: string]"
            ]
          },
          "metadata": {}
        }
      ]
    },
    {
      "cell_type": "code",
      "source": [
        "cd /content/"
      ],
      "metadata": {
        "colab": {
          "base_uri": "https://localhost:8080/"
        },
        "id": "pgDtXt11H0Ut",
        "outputId": "00d82493-1452-4077-f47c-b16564fb60f6"
      },
      "execution_count": 31,
      "outputs": [
        {
          "output_type": "stream",
          "name": "stdout",
          "text": [
            "/content\n"
          ]
        }
      ]
    },
    {
      "cell_type": "code",
      "source": [
        "!wget https://raw.githubusercontent.com/apache/spark/master/examples/src/main/resources/people.json"
      ],
      "metadata": {
        "colab": {
          "base_uri": "https://localhost:8080/"
        },
        "id": "TDoMxvjNCDjG",
        "outputId": "842d955c-9908-4d4e-fd52-d4a341c20143"
      },
      "execution_count": 32,
      "outputs": [
        {
          "output_type": "stream",
          "name": "stdout",
          "text": [
            "--2025-01-20 20:04:45--  https://raw.githubusercontent.com/apache/spark/master/examples/src/main/resources/people.json\n",
            "Resolving raw.githubusercontent.com (raw.githubusercontent.com)... 185.199.108.133, 185.199.109.133, 185.199.110.133, ...\n",
            "Connecting to raw.githubusercontent.com (raw.githubusercontent.com)|185.199.108.133|:443... connected.\n",
            "HTTP request sent, awaiting response... 200 OK\n",
            "Length: 73 [text/plain]\n",
            "Saving to: ‘people.json’\n",
            "\n",
            "people.json         100%[===================>]      73  --.-KB/s    in 0s      \n",
            "\n",
            "2025-01-20 20:04:45 (5.05 MB/s) - ‘people.json’ saved [73/73]\n",
            "\n"
          ]
        }
      ]
    },
    {
      "cell_type": "code",
      "source": [
        "#rm -rf people.json.1"
      ],
      "metadata": {
        "id": "2PDSinE6H6xX"
      },
      "execution_count": null,
      "outputs": []
    },
    {
      "cell_type": "code",
      "source": [
        "ls -lh"
      ],
      "metadata": {
        "colab": {
          "base_uri": "https://localhost:8080/"
        },
        "id": "M21i-B6nBr__",
        "outputId": "e85b5815-0cc2-420b-f9d9-00737df4489e"
      },
      "execution_count": 33,
      "outputs": [
        {
          "output_type": "stream",
          "name": "stdout",
          "text": [
            "total 685M\n",
            "-rw-r--r--  1 root root   73 Jan 20 20:04 people.json\n",
            "drwxr-xr-x  6 1000 1000 4.0K Dec 17 05:07 \u001b[0m\u001b[01;34mpyspark-3.5.4\u001b[0m/\n",
            "-rw-r--r--  1 root root 303M Dec 17 05:16 pyspark-3.5.4.tar.gz\n",
            "drwxr-xr-x  1 root root 4.0K Jan 16 14:29 \u001b[01;34msample_data\u001b[0m/\n",
            "drwxr-xr-x 13 1000 1000 4.0K Dec 17 05:13 \u001b[01;34mspark-3.5.4-bin-hadoop3\u001b[0m/\n",
            "-rw-r--r--  1 root root 383M Dec 17 05:16 spark-3.5.4-bin-hadoop3.tgz\n"
          ]
        }
      ]
    },
    {
      "cell_type": "code",
      "source": [
        "ls -lh /content/people.json"
      ],
      "metadata": {
        "colab": {
          "base_uri": "https://localhost:8080/"
        },
        "id": "JG0jj6TmBoil",
        "outputId": "f541025f-6018-4da5-9558-28bb4d3377b6"
      },
      "execution_count": 34,
      "outputs": [
        {
          "output_type": "stream",
          "name": "stdout",
          "text": [
            "-rw-r--r-- 1 root root 73 Jan 20 20:04 /content/people.json\n"
          ]
        }
      ]
    },
    {
      "cell_type": "code",
      "source": [
        "# spark is an existing SparkSession\n",
        "df = spark.read.json(\"/content/people.json\")\n",
        "# Displays the content of the DataFrame to stdout\n",
        "df.show()"
      ],
      "metadata": {
        "colab": {
          "base_uri": "https://localhost:8080/"
        },
        "id": "HzuEk7V2AjJx",
        "outputId": "a8b18cfe-df39-4f10-dd5f-c1fe03915a58"
      },
      "execution_count": 35,
      "outputs": [
        {
          "output_type": "stream",
          "name": "stdout",
          "text": [
            "+----+-------+\n",
            "| age|   name|\n",
            "+----+-------+\n",
            "|NULL|Michael|\n",
            "|  30|   Andy|\n",
            "|  19| Justin|\n",
            "+----+-------+\n",
            "\n"
          ]
        }
      ]
    },
    {
      "cell_type": "code",
      "source": [
        "df.printSchema()"
      ],
      "metadata": {
        "id": "JOrOEimJvMdN",
        "outputId": "46711ee5-39e1-4cd5-ffef-a1105c16a729",
        "colab": {
          "base_uri": "https://localhost:8080/"
        }
      },
      "execution_count": 36,
      "outputs": [
        {
          "output_type": "stream",
          "name": "stdout",
          "text": [
            "root\n",
            " |-- age: long (nullable = true)\n",
            " |-- name: string (nullable = true)\n",
            "\n"
          ]
        }
      ]
    },
    {
      "cell_type": "code",
      "source": [
        "print(\"End of Lab\")"
      ],
      "metadata": {
        "colab": {
          "base_uri": "https://localhost:8080/"
        },
        "id": "drgQiA9oIQBS",
        "outputId": "82042d40-4eb8-4a9b-fe2e-9efd7becde17"
      },
      "execution_count": 37,
      "outputs": [
        {
          "output_type": "stream",
          "name": "stdout",
          "text": [
            "End of Lab\n"
          ]
        }
      ]
    }
  ]
}