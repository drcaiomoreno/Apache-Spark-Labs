{
  "nbformat": 4,
  "nbformat_minor": 0,
  "metadata": {
    "colab": {
      "provenance": []
    },
    "kernelspec": {
      "name": "python3",
      "display_name": "Python 3"
    },
    "accelerator": "GPU"
  },
  "cells": [
    {
      "cell_type": "markdown",
      "source": [
        "Lab 1 - Running Spark on Google Collab\n",
        "Author: Caio Moreno"
      ],
      "metadata": {
        "id": "8bSJ5PLbe6VT"
      }
    },
    {
      "cell_type": "code",
      "source": [
        "print(\"Hello World\")"
      ],
      "metadata": {
        "id": "9unhjhnye6A-",
        "colab": {
          "base_uri": "https://localhost:8080/"
        },
        "outputId": "e42d6747-1523-4bac-ac7b-e9949ecc1e9f"
      },
      "execution_count": 44,
      "outputs": [
        {
          "output_type": "stream",
          "name": "stdout",
          "text": [
            "Hello World\n"
          ]
        }
      ]
    },
    {
      "cell_type": "markdown",
      "source": [
        "# Install Java, Spark, and Findspark\n",
        "This installs Apache Spark 3.5.0, Java 11, and [Findspark](https://github.com/minrk/findspark), a library that makes it easy for Python to find Spark."
      ],
      "metadata": {
        "id": "B6_72ZLaHFpj"
      }
    },
    {
      "cell_type": "code",
      "source": [
        "# Download Java Virtual Machine (JVM)\n",
        "!apt-get install openjdk-11-jdk-headless -qq > /dev/null"
      ],
      "metadata": {
        "id": "MILr577DeJQF"
      },
      "execution_count": 45,
      "outputs": []
    },
    {
      "cell_type": "code",
      "source": [
        "# Download Spark 3.5.0 from https://apache.osuosl.org/spark/spark-3.5.0/\n",
        "!wget -q https://apache.osuosl.org/spark/spark-3.5.0/spark-3.5.0-bin-hadoop3.tgz"
      ],
      "metadata": {
        "id": "KIezSJRve5fp"
      },
      "execution_count": 46,
      "outputs": []
    },
    {
      "cell_type": "code",
      "source": [
        "# Download PySpark\n",
        "!wget -q https://apache.osuosl.org/spark/spark-3.5.0/pyspark-3.5.0.tar.gz"
      ],
      "metadata": {
        "id": "mnCY60dw-4LH"
      },
      "execution_count": 47,
      "outputs": []
    },
    {
      "cell_type": "code",
      "source": [
        "# unzip it\n",
        "!tar xf spark-3.5.0-bin-hadoop3.tgz\n",
        "# install findspark\n",
        "!pip install -q findspark"
      ],
      "metadata": {
        "id": "vA4rcotnGjIw"
      },
      "execution_count": 48,
      "outputs": []
    },
    {
      "cell_type": "code",
      "source": [
        "# unzip it\n",
        "!tar xf pyspark-3.5.0.tar.gz"
      ],
      "metadata": {
        "id": "eG4kwZqs_AmF"
      },
      "execution_count": 49,
      "outputs": []
    },
    {
      "cell_type": "code",
      "source": [
        "!pwd"
      ],
      "metadata": {
        "colab": {
          "base_uri": "https://localhost:8080/"
        },
        "id": "Rrylq19fAvQS",
        "outputId": "64f9f70c-45f5-4768-89a5-3bcb9653d1e2"
      },
      "execution_count": 50,
      "outputs": [
        {
          "output_type": "stream",
          "name": "stdout",
          "text": [
            "/content\n"
          ]
        }
      ]
    },
    {
      "cell_type": "code",
      "source": [
        "cd /content/spark-3.5.0-bin-hadoop3/"
      ],
      "metadata": {
        "colab": {
          "base_uri": "https://localhost:8080/"
        },
        "id": "NUBJCp26AyXd",
        "outputId": "d8e0732e-78e9-4ffa-fbac-573d877fe271"
      },
      "execution_count": 51,
      "outputs": [
        {
          "output_type": "stream",
          "name": "stdout",
          "text": [
            "/content/spark-3.5.0-bin-hadoop3\n"
          ]
        }
      ]
    },
    {
      "cell_type": "code",
      "source": [
        "ls -lh"
      ],
      "metadata": {
        "colab": {
          "base_uri": "https://localhost:8080/"
        },
        "id": "tnO4rqj2frxa",
        "outputId": "abbb0206-47cb-43c4-db4f-afc923024882"
      },
      "execution_count": 11,
      "outputs": [
        {
          "output_type": "stream",
          "name": "stdout",
          "text": [
            "total 152K\n",
            "drwxr-xr-x 2 1000 1000 4.0K Sep  9 02:08 \u001b[0m\u001b[01;34mbin\u001b[0m/\n",
            "drwxr-xr-x 2 1000 1000 4.0K Sep  9 02:08 \u001b[01;34mconf\u001b[0m/\n",
            "drwxr-xr-x 6 1000 1000 4.0K Sep  9 02:08 \u001b[01;34mdata\u001b[0m/\n",
            "drwxr-xr-x 4 1000 1000 4.0K Sep  9 02:08 \u001b[01;34mexamples\u001b[0m/\n",
            "drwxr-xr-x 2 1000 1000  16K Sep  9 02:08 \u001b[01;34mjars\u001b[0m/\n",
            "drwxr-xr-x 4 1000 1000 4.0K Sep  9 02:08 \u001b[01;34mkubernetes\u001b[0m/\n",
            "-rw-r--r-- 1 1000 1000  23K Sep  9 02:08 LICENSE\n",
            "drwxr-xr-x 2 1000 1000 4.0K Sep  9 02:08 \u001b[01;34mlicenses\u001b[0m/\n",
            "-rw-r--r-- 1 1000 1000  57K Sep  9 02:08 NOTICE\n",
            "drwxr-xr-x 9 1000 1000 4.0K Sep  9 02:08 \u001b[01;34mpython\u001b[0m/\n",
            "drwxr-xr-x 3 1000 1000 4.0K Sep  9 02:08 \u001b[01;34mR\u001b[0m/\n",
            "-rw-r--r-- 1 1000 1000 4.5K Sep  9 02:08 README.md\n",
            "-rw-r--r-- 1 1000 1000  166 Sep  9 02:08 RELEASE\n",
            "drwxr-xr-x 2 1000 1000 4.0K Sep  9 02:08 \u001b[01;34msbin\u001b[0m/\n",
            "drwxr-xr-x 2 1000 1000 4.0K Sep  9 02:08 \u001b[01;34myarn\u001b[0m/\n"
          ]
        }
      ]
    },
    {
      "cell_type": "code",
      "source": [
        "cd /content"
      ],
      "metadata": {
        "colab": {
          "base_uri": "https://localhost:8080/"
        },
        "id": "3RvjouvmG1Jd",
        "outputId": "f986e343-1c1e-4be5-f1c6-2fde717ad3f0"
      },
      "execution_count": 52,
      "outputs": [
        {
          "output_type": "stream",
          "name": "stdout",
          "text": [
            "/content\n"
          ]
        }
      ]
    },
    {
      "cell_type": "code",
      "source": [
        "ls -lh"
      ],
      "metadata": {
        "colab": {
          "base_uri": "https://localhost:8080/"
        },
        "id": "ieVfcC7IG6Oh",
        "outputId": "75a19502-2f4c-4537-f4b3-740138893f46"
      },
      "execution_count": 53,
      "outputs": [
        {
          "output_type": "stream",
          "name": "stdout",
          "text": [
            "total 2.1G\n",
            "-rw-r--r--  1 root root   73 Sep 29 13:27 people.json\n",
            "drwxr-xr-x  6 1000 1000 4.0K Sep  9 02:04 \u001b[0m\u001b[01;34mpyspark-3.5.0\u001b[0m/\n",
            "-rw-r--r--  1 root root 303M Sep  9 02:10 pyspark-3.5.0.tar.gz\n",
            "-rw-r--r--  1 root root 303M Sep  9 02:10 pyspark-3.5.0.tar.gz.1\n",
            "-rw-r--r--  1 root root 303M Sep  9 02:10 pyspark-3.5.0.tar.gz.2\n",
            "drwxr-xr-x  1 root root 4.0K Sep 27 15:30 \u001b[01;34msample_data\u001b[0m/\n",
            "drwxr-xr-x 13 1000 1000 4.0K Sep  9 02:08 \u001b[01;34mspark-3.5.0-bin-hadoop3\u001b[0m/\n",
            "-rw-r--r--  1 root root 391M Sep  9 02:10 spark-3.5.0-bin-hadoop3-scala2.13.tgz\n",
            "-rw-r--r--  1 root root 382M Sep  9 02:10 spark-3.5.0-bin-hadoop3.tgz\n",
            "-rw-r--r--  1 root root 382M Sep  9 02:10 spark-3.5.0-bin-hadoop3.tgz.1\n"
          ]
        }
      ]
    },
    {
      "metadata": {
        "id": "b4Kjvk_h1AHl"
      },
      "cell_type": "markdown",
      "source": [
        "# Set Environment Variables\n",
        "Set the locations where Spark and Java are installed."
      ]
    },
    {
      "metadata": {
        "id": "8Xnb_ePUyQIL"
      },
      "cell_type": "code",
      "source": [
        "import os\n",
        "os.environ[\"JAVA_HOME\"] = \"/usr/lib/jvm/java-11-openjdk-amd64\"\n",
        "os.environ[\"SPARK_HOME\"] = \"/content/spark-3.5.0-bin-hadoop3\"\n"
      ],
      "execution_count": 55,
      "outputs": []
    },
    {
      "cell_type": "code",
      "source": [
        "ls -lh /usr/lib/jvm/"
      ],
      "metadata": {
        "colab": {
          "base_uri": "https://localhost:8080/"
        },
        "id": "ejGITMlrBFQq",
        "outputId": "844d5805-9dea-4233-e216-19851a343537"
      },
      "execution_count": 56,
      "outputs": [
        {
          "output_type": "stream",
          "name": "stdout",
          "text": [
            "total 8.0K\n",
            "lrwxrwxrwx 1 root root   21 Aug 24 22:33 \u001b[0m\u001b[01;36mjava-1.11.0-openjdk-amd64\u001b[0m -> \u001b[01;34mjava-11-openjdk-amd64\u001b[0m/\n",
            "drwxr-xr-x 9 root root 4.0K Sep 27 15:25 \u001b[01;34mjava-11-openjdk-amd64\u001b[0m/\n",
            "lrwxrwxrwx 1 root root   20 Jul 24 20:17 \u001b[01;36mjava-1.8.0-openjdk-amd64\u001b[0m -> \u001b[01;34mjava-8-openjdk-amd64\u001b[0m/\n",
            "drwxr-xr-x 7 root root 4.0K Sep 29 13:36 \u001b[01;34mjava-8-openjdk-amd64\u001b[0m/\n"
          ]
        }
      ]
    },
    {
      "metadata": {
        "id": "NwU28K5f1H3P"
      },
      "cell_type": "markdown",
      "source": [
        "# Start a SparkSession\n",
        "This will start a local Spark session."
      ]
    },
    {
      "cell_type": "code",
      "source": [
        "!export PYSPARK_SUBMIT_ARGS=\"--master local[2] pyspark-shell\""
      ],
      "metadata": {
        "id": "dNEWtczg_mqn"
      },
      "execution_count": 59,
      "outputs": []
    },
    {
      "cell_type": "code",
      "source": [
        "import findspark"
      ],
      "metadata": {
        "id": "d759K_Eo_QlE"
      },
      "execution_count": 60,
      "outputs": []
    },
    {
      "cell_type": "code",
      "source": [
        "import pyspark"
      ],
      "metadata": {
        "id": "oR-S7BEk_Thi"
      },
      "execution_count": 61,
      "outputs": []
    },
    {
      "metadata": {
        "id": "zgReRGl0y23D"
      },
      "cell_type": "code",
      "source": [
        "import findspark\n",
        "findspark.init()\n",
        "from pyspark.sql import SparkSession\n",
        "\n",
        "#spark = SparkSession.builder.master(\"local[*]\").getOrCreate()\n",
        "\n",
        "spark = SparkSession.builder.master(\"local[*]\").getOrCreate()"
      ],
      "execution_count": 62,
      "outputs": []
    },
    {
      "metadata": {
        "id": "T3ULPx4Y1LiR"
      },
      "cell_type": "markdown",
      "source": [
        "# Use Spark!\n",
        "That's all there is to it - you're ready to use Spark!"
      ]
    },
    {
      "metadata": {
        "id": "XJp8ZI-VzYEz",
        "colab": {
          "base_uri": "https://localhost:8080/"
        },
        "outputId": "23e6f9c9-21a4-4efc-b1eb-38320ca811e9"
      },
      "cell_type": "code",
      "source": [
        "df = spark.createDataFrame([{\"hello\": \"world\"} for x in range(1000)])\n",
        "df.show(3)"
      ],
      "execution_count": 63,
      "outputs": [
        {
          "output_type": "stream",
          "name": "stdout",
          "text": [
            "+-----+\n",
            "|hello|\n",
            "+-----+\n",
            "|world|\n",
            "|world|\n",
            "|world|\n",
            "+-----+\n",
            "only showing top 3 rows\n",
            "\n"
          ]
        }
      ]
    },
    {
      "cell_type": "code",
      "source": [
        "display(df)"
      ],
      "metadata": {
        "colab": {
          "base_uri": "https://localhost:8080/",
          "height": 35
        },
        "id": "Pu0u2G4tHnzf",
        "outputId": "fd0539a1-c260-4373-a097-1226ecc6dfc3"
      },
      "execution_count": 64,
      "outputs": [
        {
          "output_type": "display_data",
          "data": {
            "text/plain": [
              "DataFrame[hello: string]"
            ]
          },
          "metadata": {}
        }
      ]
    },
    {
      "cell_type": "code",
      "source": [
        "cd /content/"
      ],
      "metadata": {
        "colab": {
          "base_uri": "https://localhost:8080/"
        },
        "id": "pgDtXt11H0Ut",
        "outputId": "d26bb116-a745-45bb-97b9-fb4cc475953b"
      },
      "execution_count": 65,
      "outputs": [
        {
          "output_type": "stream",
          "name": "stdout",
          "text": [
            "/content\n"
          ]
        }
      ]
    },
    {
      "cell_type": "code",
      "source": [
        "!wget https://raw.githubusercontent.com/apache/spark/master/examples/src/main/resources/people.json"
      ],
      "metadata": {
        "colab": {
          "base_uri": "https://localhost:8080/"
        },
        "id": "TDoMxvjNCDjG",
        "outputId": "ffaa0f86-55aa-42a6-ab33-e3b550835c69"
      },
      "execution_count": 66,
      "outputs": [
        {
          "output_type": "stream",
          "name": "stdout",
          "text": [
            "--2023-09-29 13:38:08--  https://raw.githubusercontent.com/apache/spark/master/examples/src/main/resources/people.json\n",
            "Resolving raw.githubusercontent.com (raw.githubusercontent.com)... 185.199.108.133, 185.199.109.133, 185.199.110.133, ...\n",
            "Connecting to raw.githubusercontent.com (raw.githubusercontent.com)|185.199.108.133|:443... connected.\n",
            "HTTP request sent, awaiting response... 200 OK\n",
            "Length: 73 [text/plain]\n",
            "Saving to: ‘people.json.1’\n",
            "\n",
            "people.json.1       100%[===================>]      73  --.-KB/s    in 0s      \n",
            "\n",
            "2023-09-29 13:38:08 (1.27 MB/s) - ‘people.json.1’ saved [73/73]\n",
            "\n"
          ]
        }
      ]
    },
    {
      "cell_type": "code",
      "source": [
        "#rm -rf people.json.1"
      ],
      "metadata": {
        "id": "2PDSinE6H6xX"
      },
      "execution_count": 67,
      "outputs": []
    },
    {
      "cell_type": "code",
      "source": [
        "ls -lh"
      ],
      "metadata": {
        "colab": {
          "base_uri": "https://localhost:8080/"
        },
        "id": "M21i-B6nBr__",
        "outputId": "97382fd2-2dca-4f66-f573-55d5b61e43b3"
      },
      "execution_count": 68,
      "outputs": [
        {
          "output_type": "stream",
          "name": "stdout",
          "text": [
            "total 2.1G\n",
            "-rw-r--r--  1 root root   73 Sep 29 13:27 people.json\n",
            "-rw-r--r--  1 root root   73 Sep 29 13:38 people.json.1\n",
            "drwxr-xr-x  6 1000 1000 4.0K Sep  9 02:04 \u001b[0m\u001b[01;34mpyspark-3.5.0\u001b[0m/\n",
            "-rw-r--r--  1 root root 303M Sep  9 02:10 pyspark-3.5.0.tar.gz\n",
            "-rw-r--r--  1 root root 303M Sep  9 02:10 pyspark-3.5.0.tar.gz.1\n",
            "-rw-r--r--  1 root root 303M Sep  9 02:10 pyspark-3.5.0.tar.gz.2\n",
            "drwxr-xr-x  1 root root 4.0K Sep 27 15:30 \u001b[01;34msample_data\u001b[0m/\n",
            "drwxr-xr-x 13 1000 1000 4.0K Sep  9 02:08 \u001b[01;34mspark-3.5.0-bin-hadoop3\u001b[0m/\n",
            "-rw-r--r--  1 root root 391M Sep  9 02:10 spark-3.5.0-bin-hadoop3-scala2.13.tgz\n",
            "-rw-r--r--  1 root root 382M Sep  9 02:10 spark-3.5.0-bin-hadoop3.tgz\n",
            "-rw-r--r--  1 root root 382M Sep  9 02:10 spark-3.5.0-bin-hadoop3.tgz.1\n"
          ]
        }
      ]
    },
    {
      "cell_type": "code",
      "source": [
        "ls -lh /content/people.json"
      ],
      "metadata": {
        "colab": {
          "base_uri": "https://localhost:8080/"
        },
        "id": "JG0jj6TmBoil",
        "outputId": "d98e8ad4-1a00-449f-9ca0-28f8c7661f37"
      },
      "execution_count": 73,
      "outputs": [
        {
          "output_type": "stream",
          "name": "stdout",
          "text": [
            "-rw-r--r-- 1 root root 73 Sep 29 13:27 /content/people.json\n"
          ]
        }
      ]
    },
    {
      "cell_type": "code",
      "source": [
        "# spark is an existing SparkSession\n",
        "df = spark.read.json(\"/content/people.json\")\n",
        "# Displays the content of the DataFrame to stdout\n",
        "df.show()"
      ],
      "metadata": {
        "colab": {
          "base_uri": "https://localhost:8080/"
        },
        "id": "HzuEk7V2AjJx",
        "outputId": "cb02c962-6450-4683-c40e-e1a8cf5b6bcd"
      },
      "execution_count": 74,
      "outputs": [
        {
          "output_type": "stream",
          "name": "stdout",
          "text": [
            "+----+-------+\n",
            "| age|   name|\n",
            "+----+-------+\n",
            "|NULL|Michael|\n",
            "|  30|   Andy|\n",
            "|  19| Justin|\n",
            "+----+-------+\n",
            "\n"
          ]
        }
      ]
    },
    {
      "cell_type": "code",
      "source": [
        "print(\"End of Lab\")"
      ],
      "metadata": {
        "colab": {
          "base_uri": "https://localhost:8080/"
        },
        "id": "drgQiA9oIQBS",
        "outputId": "a9dfcc24-f81e-429d-f144-ed12a4a89c5f"
      },
      "execution_count": 75,
      "outputs": [
        {
          "output_type": "stream",
          "name": "stdout",
          "text": [
            "End of Lab\n"
          ]
        }
      ]
    }
  ]
}